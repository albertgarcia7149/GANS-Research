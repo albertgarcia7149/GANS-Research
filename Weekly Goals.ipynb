{
 "cells": [
  {
   "cell_type": "markdown",
   "metadata": {},
   "source": [
    "# Weekly Goals"
   ]
  },
  {
   "cell_type": "markdown",
   "metadata": {},
   "source": [
    "**Week 1**: Overview: Get class course work and goal situated. \n",
    "\n",
    "Accomplishments: \n",
    "- Forms filled out and turned in.\n",
    "- Decided on a direction for research\n",
    "    - Research on GANs and learn TensorFlow while doing it\n",
    "      "
   ]
  },
  {
   "cell_type": "markdown",
   "metadata": {},
   "source": [
    "**Week 2**: Overview: Read through GAN papers.\n",
    "\n",
    "Accomplishments:\n",
    "- Read Goodfellow's GAN paper and made notes\n",
    "- Watched followup videos by Goodfellow about his paper."
   ]
  },
  {
   "cell_type": "markdown",
   "metadata": {},
   "source": [
    "**Week 3**: Overview: Finalize notes and learn how to read research papers.\n",
    "\n",
    "Accomplishments:\n",
    "- Researched how people typically read research papers made notes of key ideas\n",
    "- Read through Goodfellow's GAN paper again"
   ]
  },
  {
   "cell_type": "markdown",
   "metadata": {},
   "source": [
    "**Week 4**: Overview: Replicate results using a GAN with MNIST dataset.\n",
    "\n",
    "Accomplishments:\n",
    "- Located the source code for a tensorflow project (found here: https://github.com/wiseodd)\n",
    "- Recreated results.\n",
    "- Commented the code to build understanding of tensorflow."
   ]
  },
  {
   "cell_type": "markdown",
   "metadata": {},
   "source": [
    "**Week 5**: Overview: Wanted to use GAN on my own data but needed to learn more about the structure of tensorflow.\n",
    "\n",
    "Accomplishments:\n",
    "- Began working through some code to understancd tensorboard which happens to be on CNN so learning about CNNs as well (code found here: https://github.com/dandelionmane/tf-dev-summit-tensorboard-tutorial)\n",
    "- Attempted to use another loss function for GAN (unsuccessful)"
   ]
  },
  {
   "cell_type": "markdown",
   "metadata": {},
   "source": [
    "**Week 6**: Overview: Want to finish going through CNN code to get understanding of tensorboard. Then want to see if I can implement GAN using my own data.\n",
    "- Finished commenting tensorboard code. Still has compile error."
   ]
  },
  {
   "cell_type": "markdown",
   "metadata": {
    "collapsed": true
   },
   "source": [
    "**Week 7**: Overview: Hopefully figure our compile error and translate new knowledge to my own GAN.\n",
    "- Updated github\n"
   ]
  },
  {
   "cell_type": "markdown",
   "metadata": {
    "collapsed": true
   },
   "source": [
    "**Week 8**: Overview: Still trying to use my own data in a GAN\n",
    "- Came across pokeGAN and was able to create a generator with my data.\n",
    "- Unable to utilize GPU in tensorflow\n",
    "- Tensorboard code still has errors"
   ]
  },
  {
   "cell_type": "markdown",
   "metadata": {},
   "source": [
    "**Week 9**: Overview: The results from the generator created last week can be improved on.\n",
    "- Completed 2 more trials and got results from 2 more generators.\n",
    "- Results still not the best.\n",
    "- Tensorboard code still has errors\n",
    "- Updated github and \"completed CapyGAN\""
   ]
  },
  {
   "cell_type": "code",
   "execution_count": null,
   "metadata": {
    "collapsed": true
   },
   "outputs": [],
   "source": []
  }
 ],
 "metadata": {
  "kernelspec": {
   "display_name": "Python 3",
   "language": "python",
   "name": "python3"
  },
  "language_info": {
   "codemirror_mode": {
    "name": "ipython",
    "version": 3
   },
   "file_extension": ".py",
   "mimetype": "text/x-python",
   "name": "python",
   "nbconvert_exporter": "python",
   "pygments_lexer": "ipython3",
   "version": "3.6.3"
  }
 },
 "nbformat": 4,
 "nbformat_minor": 2
}
