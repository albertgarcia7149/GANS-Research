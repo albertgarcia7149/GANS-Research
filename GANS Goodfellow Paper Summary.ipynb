{
 "cells": [
  {
   "cell_type": "markdown",
   "metadata": {},
   "source": [
    "# Summary (from paper)"
   ]
  },
  {
   "cell_type": "markdown",
   "metadata": {},
   "source": [
    "A general adversarial net is made of 2 models, a discriminator and a generator. The discriminator's goal is to tell whether an image is from the data set or not (it will output a scalar with its confidence). While the generator takes random noise as an input it tries to fool the discriminator.\n",
    "\n",
    "They both are optimized to get better at their individual tasks using back propagation and dropout algorithms. To prevent overfitting, during runtime the optimization of the generator and discriminator are not done all at once. Optimization follows the pattern k steps for discriminator for every 1 step for the generator. This keeps the generator near its optimal solution all the time.\n",
    "\n",
    "The resulting generator can make images with the capacity to fool the discriminator. Thus creating realistic images from the noise."
   ]
  },
  {
   "cell_type": "markdown",
   "metadata": {},
   "source": [
    "# Notes (Goodfellow Video)"
   ]
  },
  {
   "cell_type": "markdown",
   "metadata": {},
   "source": [
    "- **Mode Collapse (Helvetica scenario)** - Generator will produce the same image over and over again.\n",
    "- If you train the generator to completion without continuously training the discriminator there will exist a single space that is \"the right answer\" in this case the generator will continue to produce the same image.\n",
    "- That is why we train both the generator and discriminator step-wise at the same time.\n",
    "\n",
    "**Difficulties in GANS**\n",
    "- Mode collapse\n",
    "- Finding equilibrium of a game\n",
    "    - Find a new algorithm that finds the equilibrium in the game rather that the current method (minimax algorithm)\n",
    "\n",
    "- GANs are generative models based on supervised learning and game theory\n",
    "- GANs learn to generate realistic samples\n",
    "\n",
    "Video can be found here: https://www.youtube.com/watch?v=HN9NRhm9waY&t=1771s"
   ]
  },
  {
   "cell_type": "markdown",
   "metadata": {},
   "source": [
    "# Definitions"
   ]
  },
  {
   "cell_type": "markdown",
   "metadata": {},
   "source": [
    "**Multilayer perceptrons** - a class of feed forward artificial neural network. Consists of at least 3 layers of nodes. Except for input nodes each node is a neuron that uses a nonlinear activation function. Utilizes a supervised learning technique called back propagation.\n",
    "\n",
    "**Markov chains** - a randomly determined model describing a sequence of possible events in which the probability of each event depends only on the state attained in the previous event.\n",
    "\n",
    "**Unrolled approximate inference network** -\n",
    "\n",
    "**Hierarchical models** - (multi-level, mixed-effects) statistical models of parameters that vary at more than one level.\n",
    "\n",
    "**Dropout**- a regularization technique for reducing overfitting in neural networks by preventing complex co-adaptations on training data.\n",
    "\n",
    "**Regularization**- a process of introducing additional information in order to solve an ill-posed problem or to prevent overfitting.\n",
    "\n",
    "**Overfitting**- the production of an analysis that corresponds too closely or exactly to a particular set of data, and may \n",
    "therefore fail to fit additional data or predict future observations reliably. (failure to capture the overall structure)\n",
    "\n",
    "**Overfitted model**- a statistical model that contains more parameters than can be justified by the data.\n",
    "\n",
    "**Function saturation**- the initial state of growth is approximately exponential; then, as saturation begins, the growth slows, and at maturity, growth stops. (sigmoid curve is an example of such a function)"
   ]
  },
  {
   "cell_type": "markdown",
   "metadata": {},
   "source": [
    "#"
   ]
  }
 ],
 "metadata": {
  "kernelspec": {
   "display_name": "Python 3",
   "language": "python",
   "name": "python3"
  },
  "language_info": {
   "codemirror_mode": {
    "name": "ipython",
    "version": 3
   },
   "file_extension": ".py",
   "mimetype": "text/x-python",
   "name": "python",
   "nbconvert_exporter": "python",
   "pygments_lexer": "ipython3",
   "version": "3.6.3"
  }
 },
 "nbformat": 4,
 "nbformat_minor": 2
}
