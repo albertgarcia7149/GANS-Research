{
 "cells": [
  {
   "cell_type": "markdown",
   "metadata": {},
   "source": [
    "# Find papers on machine learning"
   ]
  },
  {
   "cell_type": "markdown",
   "metadata": {},
   "source": [
    "- Machine learning reddit\n",
    "- Archive Sanity\n",
    "- Google and Deepmind work can be found on their websites"
   ]
  },
  {
   "cell_type": "markdown",
   "metadata": {},
   "source": [
    "# What to read"
   ]
  },
  {
   "cell_type": "markdown",
   "metadata": {},
   "source": [
    "- A good though to keep up with the ever evolving world of machine learning is to try to read 2-3 paper that got a lot of attention that week.\n",
    "- Pick a goal to try and reach\n",
    "    - Read papers to try and reach that goal"
   ]
  },
  {
   "cell_type": "markdown",
   "metadata": {},
   "source": [
    "# Read using 3 pass approach"
   ]
  },
  {
   "cell_type": "markdown",
   "metadata": {},
   "source": [
    "- Pass 1\n",
    "    - Read the title, abstract and skip trying to understand the math for now.\n",
    "    - Try to understand the aims of the author and decide whether or not you are interested.\n",
    "    - Look around and see what others who have read the paper say about it\n",
    "- Pass 2\n",
    "    - Read critically, get a pretty good understanding of the math, read the algorithms, and take time to analyze the images.\n",
    "    - Download the code and try to replicate the results, read the code and see if you can make sense of it\n",
    "    - Read or watch other people's breakdowns of the information\n",
    "    - Take notes\n",
    "- Pass 3\n",
    "    - Understand the math completely\n",
    "    - If your having a hard time understanding it all khan academy, blogs, researchers, Google are good sources for figuring it out. If you need help ask for it."
   ]
  },
  {
   "cell_type": "code",
   "execution_count": null,
   "metadata": {
    "collapsed": true
   },
   "outputs": [],
   "source": []
  }
 ],
 "metadata": {
  "kernelspec": {
   "display_name": "Python 3",
   "language": "python",
   "name": "python3"
  },
  "language_info": {
   "codemirror_mode": {
    "name": "ipython",
    "version": 3
   },
   "file_extension": ".py",
   "mimetype": "text/x-python",
   "name": "python",
   "nbconvert_exporter": "python",
   "pygments_lexer": "ipython3",
   "version": "3.6.3"
  }
 },
 "nbformat": 4,
 "nbformat_minor": 2
}
