{
 "cells": [
  {
   "cell_type": "markdown",
   "metadata": {},
   "source": [
    "# CapyGAN Analysis"
   ]
  },
  {
   "cell_type": "markdown",
   "metadata": {},
   "source": [
    "Across all trials the results recieved were less than ideal. The ideal result was to get images that were easily recoginizable as a capybara by anyone. Unfortunately that wasn't the outcome I got."
   ]
  },
  {
   "cell_type": "markdown",
   "metadata": {},
   "source": [
    "Now there are plenty of reasons for this. For sake of simplicity I will only be focusing on a few which include **samples**,** sample size**, and **number of epochs**."
   ]
  },
  {
   "cell_type": "markdown",
   "metadata": {},
   "source": [
    "### Samples"
   ]
  },
  {
   "cell_type": "markdown",
   "metadata": {},
   "source": [
    "The sample dataset for this project was gathered from a google image search batch download. Now I did manually go through and remove the obvious outliers but even then the images were very diverse in nature. The diversity of the images might not be a problem, rather it should impove the model. This brings me to the next topic."
   ]
  },
  {
   "cell_type": "markdown",
   "metadata": {},
   "source": [
    "### Sample Size"
   ]
  },
  {
   "cell_type": "markdown",
   "metadata": {},
   "source": [
    "The samples might not be very great but neither was the limited sample size. To train a model to completion with a large set of data is the idea case. Since I was unable to gather a very large set of data that is one of the issues that could have contributed to the results in this project. Now I did vary the sample size between **trial 2** and **trial 3** but there is not a clear distinction from the results. This makes me think that even though the sample size was changed it was changed by such an insignificant amount that no noticable changes occured."
   ]
  },
  {
   "cell_type": "markdown",
   "metadata": {},
   "source": [
    "### Number of Epochs"
   ]
  },
  {
   "cell_type": "markdown",
   "metadata": {},
   "source": [
    "Even if I had the data to increase my sample size I would still encouter issues. Computation ability. Now while solvable in nature due to my limited computational power of my desktop I was able to run the samples from **trail 1** and **trial 2** in under 12 hours. As soon as I raised the sample size from 250 to 600 it began to take up to 36 hours for completion of 5000 epochs. Now I didn't spend very much time messing around with the number of epochs I was using but it seemed to me that after about 1000 epochs the changes to the resulting images were minimal across all trials. This makes me think that even if I had the computational power to run the model with larger epochs that the results wouldn't change much."
   ]
  },
  {
   "cell_type": "markdown",
   "metadata": {},
   "source": [
    "### What Went Well"
   ]
  },
  {
   "cell_type": "markdown",
   "metadata": {},
   "source": [
    "Now the results weren't the best but we do see some improvement between the epochs. Looking across all trials the generator seems to have grasped a few of the features of the sample images. We begin to see a lot of green and brown within the first 200 epochs. Yes, the images appear blurry and are unrefined but as we move into the 2000 epoch range we begin to see capybara-like shapes. These shapes show up pretty consistenly after this point but that isn't the best part. At this point we also see hair texture appear in the images and in most pictures you can make out grass in the background. This makes me certian that the generator is learning the features but unable to assemple the perfect"
   ]
  }
 ],
 "metadata": {
  "kernelspec": {
   "display_name": "Python 3",
   "language": "python",
   "name": "python3"
  },
  "language_info": {
   "codemirror_mode": {
    "name": "ipython",
    "version": 3
   },
   "file_extension": ".py",
   "mimetype": "text/x-python",
   "name": "python",
   "nbconvert_exporter": "python",
   "pygments_lexer": "ipython3",
   "version": "3.6.3"
  }
 },
 "nbformat": 4,
 "nbformat_minor": 2
}
